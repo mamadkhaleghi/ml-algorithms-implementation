{
 "cells": [
  {
   "cell_type": "code",
   "execution_count": 1,
   "metadata": {
    "direction": "ltr"
   },
   "outputs": [],
   "source": [
    "import numpy as np\n",
    "import pandas as pd\n",
    "from random import randrange\n",
    "from sklearn.model_selection import train_test_split\n",
    "from sklearn.tree import DecisionTreeClassifier"
   ]
  },
  {
   "cell_type": "markdown",
   "metadata": {
    "direction": "ltr"
   },
   "source": [
    "## Logistic Regression implementation"
   ]
  },
  {
   "cell_type": "code",
   "execution_count": 58,
   "metadata": {
    "direction": "ltr"
   },
   "outputs": [],
   "source": [
    "class Logistic_Regression():\n",
    "    \n",
    "    def __init__(self, learning_rate=0.1, regularization='l2', max_iter=100, reg_coef=0.1):\n",
    "        \n",
    "        assert regularization in [None,'l2','l1'], 'regularization not recognize'\n",
    "\n",
    "        self.learning_rate = learning_rate\n",
    "        self.regularization = regularization\n",
    "        self.max_iter = max_iter\n",
    "        self.reg_coef = reg_coef\n",
    "        \n",
    "        self._learned_w = None\n",
    "        self._learned_b = None\n",
    "     \n",
    "    def _initialize(self, x):\n",
    "        \n",
    "        rng = np.random.RandomState(0)\n",
    "        w = rng.normal(0, 0.05, x.shape[1]).reshape(-1,1)\n",
    "        b = rng.randn()\n",
    "        return w, b\n",
    "    \n",
    "    def _sigmoid(self, x):\n",
    "        return np.array([self._sigmoid_function(value) for value in x])\n",
    "        # calculate sigmoid function on x and return the result\n",
    "        # this function uses the function below!\n",
    "        \n",
    "    def _sigmoid_function(self, x):\n",
    "        if x >= 0:\n",
    "            z = np.exp(-x)\n",
    "            return 1 / (1 + z)\n",
    "        else:\n",
    "            z = np.exp(x)\n",
    "            return z / (1 + z)\n",
    "    \n",
    "    def _loss(self, x, y, w,b):\n",
    "        \n",
    "        \n",
    "        m = len(y)\n",
    "        reg_term = 0\n",
    "        if self.regularization=='l2':\n",
    "            reg_term = (self.reg_coef/2) * np.sum(w**2)\n",
    "            # Calculate regularization term\n",
    "        elif self.regularization=='l1':\n",
    "            reg_term = (self.reg_coef) * np.sum(abs(w))\n",
    "            # Calculate regularization term\n",
    "        z = x@w+b\n",
    "        # calculate cost\n",
    "        cost = np.mean ( np.log(1 + np.exp(z)) ) - (1/m)*( y.T @ z )  + reg_term \n",
    "\n",
    "        return cost\n",
    "         \n",
    "        \n",
    "    def fit(self, x, y):\n",
    "\n",
    "        m = x.shape[0]\n",
    "        w, b = self._initialize(x)\n",
    "        \n",
    "        for i in range(self.max_iter):\n",
    "            \n",
    "            # Calculate the output of model\n",
    "            #out = self._sigmoid(x@w+b)\n",
    "\n",
    "            # Calculate the cost\n",
    "            cost = self._loss(x,y,w,b)\n",
    "            \n",
    "            # Calculate the gradients wirh respect to b and w\n",
    "            db = (1/m) * b * np.sum( self._sigmoid(x@w+b) - y ) \n",
    "            #_______________________________________________________# regularization term derivative\n",
    "            dr = 0\n",
    "            if self.regularization=='l2':\n",
    "                dr = self.reg_coef * w                            \n",
    "            elif self.regularization=='l1':\n",
    "                dr = self.reg_coef * np.sign(w)                   \n",
    "            #__________________________________________________#\n",
    "            dw = (1/m) * x.T @ (self._sigmoid(x@w+b) - y) + dr\n",
    "            \n",
    "            # Update w and b\n",
    "            w = w - self.learning_rate * dw\n",
    "            b = b - self.learning_rate * db\n",
    "            \n",
    "\n",
    "        if (i+1) % self.max_iter == 0:\n",
    "                print (\"Train Loss after epoch %i: %f\" %(i+1, cost))\n",
    "                \n",
    "        self._learned_w = w\n",
    "        self._learned_b = b\n",
    "        \n",
    "    def predict(self, x):                                            \n",
    "        out = self._sigmoid(x @ self._learned_w + self._learned_b)   # some changes have been made here!\n",
    "        predictions = (out >= 0.5)\n",
    "        return predictions    \n",
    "    \n",
    "    def _cost_after_training(self,x,y):                                   \n",
    "        prediction = x @ self._learned_w + self._learned_b\n",
    "        return self._loss(x, y, self._learned_w,self._learned_b)\n",
    "        "
   ]
  },
  {
   "cell_type": "code",
   "execution_count": 3,
   "metadata": {
    "direction": "ltr"
   },
   "outputs": [],
   "source": [
    "from sklearn.datasets import load_breast_cancer\n",
    "from sklearn.linear_model import LogisticRegression\n",
    "from sklearn.model_selection import train_test_split\n",
    "from sklearn.metrics import classification_report"
   ]
  },
  {
   "cell_type": "code",
   "execution_count": 15,
   "metadata": {
    "direction": "ltr"
   },
   "outputs": [],
   "source": [
    "X, y = load_breast_cancer(return_X_y=True)"
   ]
  },
  {
   "cell_type": "code",
   "execution_count": 2,
   "metadata": {
    "direction": "ltr"
   },
   "outputs": [],
   "source": [
    "from sklearn.preprocessing import StandardScaler\n",
    "scaler = StandardScaler()"
   ]
  },
  {
   "cell_type": "code",
   "execution_count": 17,
   "metadata": {
    "direction": "ltr"
   },
   "outputs": [],
   "source": [
    "for i in range(X.shape[1]):\n",
    "    X[:,i] = scaler.fit_transform( X[:,i].reshape(-1,1) ).reshape(-1,)"
   ]
  },
  {
   "cell_type": "code",
   "execution_count": 18,
   "metadata": {
    "direction": "ltr"
   },
   "outputs": [],
   "source": [
    "X_train, X_test, y_train, y_test = train_test_split(X, y, test_size=0.15, stratify=y)"
   ]
  },
  {
   "cell_type": "code",
   "execution_count": 19,
   "metadata": {
    "direction": "ltr"
   },
   "outputs": [],
   "source": [
    "X_train, X_val, y_train, y_val = train_test_split(X_train, y_train, test_size=15/85, stratify=y_train)"
   ]
  },
  {
   "cell_type": "code",
   "execution_count": 20,
   "metadata": {
    "direction": "ltr"
   },
   "outputs": [],
   "source": [
    "y_train = y_train.reshape(-1,1)\n",
    "y_val = y_val.reshape(-1,1)\n",
    "y_test = y_test.reshape(-1,1)"
   ]
  },
  {
   "cell_type": "code",
   "execution_count": 22,
   "metadata": {
    "direction": "ltr"
   },
   "outputs": [],
   "source": [
    "LR = Logistic_Regression(learning_rate=0.1, regularization='l2', max_iter=100, reg_coef=0.1)"
   ]
  },
  {
   "cell_type": "code",
   "execution_count": 23,
   "metadata": {
    "direction": "ltr"
   },
   "outputs": [
    {
     "name": "stdout",
     "output_type": "stream",
     "text": [
      "Train Loss after epoch 100: 0.197159\n"
     ]
    }
   ],
   "source": [
    "LR.fit(X_train,y_train)  "
   ]
  },
  {
   "cell_type": "code",
   "execution_count": 24,
   "metadata": {
    "direction": "ltr"
   },
   "outputs": [],
   "source": [
    "y_p_train = LR.predict(X_train)    # predicted labels of training dataset\n",
    "y_p_test  = LR.predict(X_test)     # predicted labels of testing  dataset"
   ]
  },
  {
   "cell_type": "code",
   "execution_count": 25,
   "metadata": {
    "direction": "ltr"
   },
   "outputs": [
    {
     "data": {
      "text/plain": [
       "'              precision    recall  f1-score   support\\n\\n       False       0.99      0.95      0.97       148\\n        True       0.97      0.99      0.98       249\\n\\n    accuracy                           0.98       397\\n   macro avg       0.98      0.97      0.98       397\\nweighted avg       0.98      0.98      0.98       397\\n'"
      ]
     },
     "execution_count": 25,
     "metadata": {},
     "output_type": "execute_result"
    }
   ],
   "source": [
    "classification_report(y_train>0.5, y_p_train)"
   ]
  },
  {
   "cell_type": "code",
   "execution_count": 26,
   "metadata": {
    "direction": "ltr"
   },
   "outputs": [
    {
     "data": {
      "text/plain": [
       "'              precision    recall  f1-score   support\\n\\n       False       0.97      0.94      0.95        32\\n        True       0.96      0.98      0.97        54\\n\\n    accuracy                           0.97        86\\n   macro avg       0.97      0.96      0.96        86\\nweighted avg       0.97      0.97      0.96        86\\n'"
      ]
     },
     "execution_count": 26,
     "metadata": {},
     "output_type": "execute_result"
    }
   ],
   "source": [
    "classification_report(y_test>0.5, y_p_test)"
   ]
  },
  {
   "cell_type": "code",
   "execution_count": 27,
   "metadata": {
    "direction": "ltr"
   },
   "outputs": [],
   "source": [
    "LR_no_reg = Logistic_Regression(learning_rate=0.001, regularization=None, max_iter=100, reg_coef=1)\n",
    "LR_l1     = Logistic_Regression(learning_rate=0.001, regularization='l1', max_iter=100, reg_coef=1)\n",
    "LR_l2     = Logistic_Regression(learning_rate=0.001, regularization='l2', max_iter=100, reg_coef=1)"
   ]
  },
  {
   "cell_type": "code",
   "execution_count": 28,
   "metadata": {
    "direction": "ltr"
   },
   "outputs": [
    {
     "name": "stdout",
     "output_type": "stream",
     "text": [
      "Train Loss after epoch 100: 0.597299\n"
     ]
    }
   ],
   "source": [
    "LR_no_reg.fit(X_train,y_train)            #without regularization term"
   ]
  },
  {
   "cell_type": "code",
   "execution_count": 29,
   "metadata": {
    "direction": "ltr"
   },
   "outputs": [
    {
     "name": "stdout",
     "output_type": "stream",
     "text": [
      "Train Loss after epoch 100: 0.734162\n"
     ]
    }
   ],
   "source": [
    "LR_l1.fit(X_train,y_train)               # with l1 regularization term"
   ]
  },
  {
   "cell_type": "code",
   "execution_count": 30,
   "metadata": {
    "direction": "ltr"
   },
   "outputs": [
    {
     "name": "stdout",
     "output_type": "stream",
     "text": [
      "Train Loss after epoch 100: 0.636810\n"
     ]
    }
   ],
   "source": [
    "LR_l2.fit(X_train,y_train)               # with l2 regularization term"
   ]
  },
  {
   "cell_type": "code",
   "execution_count": 31,
   "metadata": {
    "direction": "ltr"
   },
   "outputs": [
    {
     "data": {
      "text/plain": [
       "array([[-0.27074659, -0.24705427, -0.2216201 , -0.11953996]])"
      ]
     },
     "execution_count": 31,
     "metadata": {},
     "output_type": "execute_result"
    }
   ],
   "source": [
    "LR._learned_w            [1:5,:].T"
   ]
  },
  {
   "cell_type": "code",
   "execution_count": 32,
   "metadata": {
    "direction": "ltr"
   },
   "outputs": [
    {
     "data": {
      "text/plain": [
       "array([[ 5.86975478e-06,  2.98413212e-04, -8.69045826e-04,\n",
       "         1.59453284e-04]])"
      ]
     },
     "execution_count": 32,
     "metadata": {},
     "output_type": "execute_result"
    }
   ],
   "source": [
    "LR_l1._learned_w            [1:5,:].T"
   ]
  },
  {
   "cell_type": "code",
   "execution_count": 33,
   "metadata": {
    "direction": "ltr"
   },
   "outputs": [
    {
     "data": {
      "text/plain": [
       "array([[-0.00330832,  0.01011413,  0.06879086,  0.06311193]])"
      ]
     },
     "execution_count": 33,
     "metadata": {},
     "output_type": "execute_result"
    }
   ],
   "source": [
    "LR_l2._learned_w            [1:5,:].T"
   ]
  },
  {
   "cell_type": "code",
   "execution_count": 34,
   "metadata": {
    "direction": "ltr"
   },
   "outputs": [],
   "source": [
    "y_p_no_reg = LR_no_reg.predict(X_test)\n",
    "y_p_l1     = LR_l1    .predict(X_test)\n",
    "y_p_l2     = LR_l2    .predict(X_test)"
   ]
  },
  {
   "cell_type": "code",
   "execution_count": 35,
   "metadata": {
    "direction": "ltr"
   },
   "outputs": [
    {
     "name": "stdout",
     "output_type": "stream",
     "text": [
      "              precision    recall  f1-score   support\n",
      "\n",
      "       False       0.83      0.62      0.71        32\n",
      "        True       0.81      0.93      0.86        54\n",
      "\n",
      "    accuracy                           0.81        86\n",
      "   macro avg       0.82      0.78      0.79        86\n",
      "weighted avg       0.82      0.81      0.81        86\n",
      "\n"
     ]
    }
   ],
   "source": [
    "print(classification_report(y_test>0.5, y_p_no_reg))   #without regularization term"
   ]
  },
  {
   "cell_type": "code",
   "execution_count": 36,
   "metadata": {
    "direction": "ltr"
   },
   "outputs": [
    {
     "name": "stdout",
     "output_type": "stream",
     "text": [
      "              precision    recall  f1-score   support\n",
      "\n",
      "       False       1.00      0.09      0.17        32\n",
      "        True       0.65      1.00      0.79        54\n",
      "\n",
      "    accuracy                           0.66        86\n",
      "   macro avg       0.83      0.55      0.48        86\n",
      "weighted avg       0.78      0.66      0.56        86\n",
      "\n"
     ]
    }
   ],
   "source": [
    "print(classification_report(y_test>0.5, y_p_l1))       # with l1 regularization term"
   ]
  },
  {
   "cell_type": "code",
   "execution_count": 37,
   "metadata": {
    "direction": "ltr"
   },
   "outputs": [
    {
     "name": "stdout",
     "output_type": "stream",
     "text": [
      "              precision    recall  f1-score   support\n",
      "\n",
      "       False       0.83      0.62      0.71        32\n",
      "        True       0.81      0.93      0.86        54\n",
      "\n",
      "    accuracy                           0.81        86\n",
      "   macro avg       0.82      0.78      0.79        86\n",
      "weighted avg       0.82      0.81      0.81        86\n",
      "\n"
     ]
    }
   ],
   "source": [
    "print(classification_report(y_test>0.5, y_p_l2))        # with l2 regularization term"
   ]
  },
  {
   "cell_type": "code",
   "execution_count": 63,
   "metadata": {
    "direction": "ltr"
   },
   "outputs": [],
   "source": [
    "LR1=Logistic_Regression(learning_rate=0.1,   regularization='l1', max_iter=100, reg_coef=0.5)   # different learning rates\n",
    "LR2=Logistic_Regression(learning_rate=0.01,  regularization='l1', max_iter=100, reg_coef=0.5)\n",
    "LR3=Logistic_Regression(learning_rate=0.005, regularization='l1', max_iter=100, reg_coef=0.5)\n",
    "LR4=Logistic_Regression(learning_rate=0.001, regularization='l1', max_iter=100, reg_coef=0.5)\n",
    "LR5=Logistic_Regression(learning_rate=0.0005,regularization='l1', max_iter=100, reg_coef=0.5)\n",
    "LR6=Logistic_Regression(learning_rate=0.0001,regularization='l1', max_iter=100, reg_coef=0.5)\n",
    "LR7=Logistic_Regression(learning_rate=0.00005,regularization='l1', max_iter=100, reg_coef=0.5)\n",
    "LR8=Logistic_Regression(learning_rate=0.00001,regularization='l1', max_iter=100, reg_coef=0.5)"
   ]
  },
  {
   "cell_type": "code",
   "execution_count": 83,
   "metadata": {
    "direction": "ltr"
   },
   "outputs": [
    {
     "name": "stdout",
     "output_type": "stream",
     "text": [
      "Train Loss after epoch 100: 0.961163\n",
      "Train Loss after epoch 100: 0.702441\n",
      "Train Loss after epoch 100: 0.698348\n",
      "Train Loss after epoch 100: 0.814354\n",
      "Train Loss after epoch 100: 1.033557\n",
      "Train Loss after epoch 100: 1.387370\n",
      "Train Loss after epoch 100: 1.443128\n",
      "Train Loss after epoch 100: 1.491418\n"
     ]
    }
   ],
   "source": [
    "LR1.fit(X_train,y_train) \n",
    "LR2.fit(X_train,y_train) \n",
    "LR3.fit(X_train,y_train) \n",
    "LR4.fit(X_train,y_train) \n",
    "LR5.fit(X_train,y_train) \n",
    "LR6.fit(X_train,y_train) \n",
    "LR7.fit(X_train,y_train) \n",
    "LR8.fit(X_train,y_train) "
   ]
  },
  {
   "cell_type": "code",
   "execution_count": 84,
   "metadata": {
    "direction": "ltr"
   },
   "outputs": [
    {
     "name": "stdout",
     "output_type": "stream",
     "text": [
      "LR1 cost on validation set:  [[0.9931055]]\n",
      "LR2 cost on validation set:  [[0.70376614]]\n",
      "LR3 cost on validation set:  [[0.69561354]]\n",
      "LR4 cost on validation set:  [[0.80996938]]\n",
      "LR5 cost on validation set:  [[1.03190856]]\n",
      "LR6 cost on validation set:  [[1.38702353]]\n",
      "LR7 cost on validation set:  [[1.44287006]]\n",
      "LR8 cost on validation set:  [[1.49130992]]\n"
     ]
    }
   ],
   "source": [
    "print(\"LR1 cost on validation set: \",LR1._cost_after_training(X_val,y_val))                   \n",
    "print(\"LR2 cost on validation set: \",LR2._cost_after_training(X_val,y_val))\n",
    "print(\"LR3 cost on validation set: \",LR3._cost_after_training(X_val,y_val))\n",
    "print(\"LR4 cost on validation set: \",LR4._cost_after_training(X_val,y_val))\n",
    "print(\"LR5 cost on validation set: \",LR5._cost_after_training(X_val,y_val))\n",
    "print(\"LR6 cost on validation set: \",LR6._cost_after_training(X_val,y_val))\n",
    "print(\"LR7 cost on validation set: \",LR7._cost_after_training(X_val,y_val))\n",
    "print(\"LR8 cost on validation set: \",LR8._cost_after_training(X_val,y_val))"
   ]
  },
  {
   "cell_type": "code",
   "execution_count": 73,
   "metadata": {
    "direction": "ltr"
   },
   "outputs": [],
   "source": [
    "LR3_1=Logistic_Regression(learning_rate=0.005, regularization='l1', max_iter=100, reg_coef=0.001)     # different reg_coef\n",
    "LR3_2=Logistic_Regression(learning_rate=0.005, regularization='l1', max_iter=100, reg_coef=0.005)\n",
    "LR3_3=Logistic_Regression(learning_rate=0.005, regularization='l1', max_iter=100, reg_coef=0.01)\n",
    "LR3_4=Logistic_Regression(learning_rate=0.005, regularization='l1', max_iter=100, reg_coef=0.05)\n",
    "LR3_5=Logistic_Regression(learning_rate=0.005, regularization='l1', max_iter=100, reg_coef=0.1)\n",
    "LR3_6=Logistic_Regression(learning_rate=0.005, regularization='l1', max_iter=100, reg_coef=0.5)\n",
    "LR3_7=Logistic_Regression(learning_rate=0.005, regularization='l1', max_iter=100, reg_coef=1)\n",
    "LR3_8=Logistic_Regression(learning_rate=0.005, regularization='l1', max_iter=100, reg_coef=1.5)"
   ]
  },
  {
   "cell_type": "code",
   "execution_count": 85,
   "metadata": {
    "direction": "ltr"
   },
   "outputs": [
    {
     "name": "stdout",
     "output_type": "stream",
     "text": [
      "Train Loss after epoch 100: 0.336996\n",
      "Train Loss after epoch 100: 0.346473\n",
      "Train Loss after epoch 100: 0.357930\n",
      "Train Loss after epoch 100: 0.436085\n",
      "Train Loss after epoch 100: 0.514268\n",
      "Train Loss after epoch 100: 0.698348\n",
      "Train Loss after epoch 100: 0.750406\n",
      "Train Loss after epoch 100: 0.850378\n"
     ]
    }
   ],
   "source": [
    "LR3_1.fit(X_train,y_train) \n",
    "LR3_2.fit(X_train,y_train) \n",
    "LR3_3.fit(X_train,y_train) \n",
    "LR3_4.fit(X_train,y_train) \n",
    "LR3_5.fit(X_train,y_train) \n",
    "LR3_6.fit(X_train,y_train)\n",
    "LR3_7.fit(X_train,y_train) \n",
    "LR3_8.fit(X_train,y_train) "
   ]
  },
  {
   "cell_type": "code",
   "execution_count": 87,
   "metadata": {
    "direction": "ltr"
   },
   "outputs": [
    {
     "name": "stdout",
     "output_type": "stream",
     "text": [
      "LR3_1 cost on validation set:  [[0.33490964]]\n",
      "LR3_2 cost on validation set:  [[0.34434714]]\n",
      "LR3_3 cost on validation set:  [[0.35576598]]\n",
      "LR3_4 cost on validation set:  [[0.43431896]]\n",
      "LR3_5 cost on validation set:  [[0.51374996]]\n",
      "LR3_6 cost on validation set:  [[0.69561354]]\n",
      "LR3_7 cost on validation set:  [[0.74565362]]\n",
      "LR3_8 cost on validation set:  [[0.8411034]]\n"
     ]
    }
   ],
   "source": [
    "print(\"LR3_1 cost on validation set: \",LR3_1._cost_after_training(X_val,y_val))\n",
    "print(\"LR3_2 cost on validation set: \",LR3_2._cost_after_training(X_val,y_val))\n",
    "print(\"LR3_3 cost on validation set: \",LR3_3._cost_after_training(X_val,y_val))\n",
    "print(\"LR3_4 cost on validation set: \",LR3_4._cost_after_training(X_val,y_val))\n",
    "print(\"LR3_5 cost on validation set: \",LR3_5._cost_after_training(X_val,y_val))\n",
    "print(\"LR3_6 cost on validation set: \",LR3_6._cost_after_training(X_val,y_val))\n",
    "print(\"LR3_7 cost on validation set: \",LR3_7._cost_after_training(X_val,y_val))\n",
    "print(\"LR3_8 cost on validation set: \",LR3_8._cost_after_training(X_val,y_val))"
   ]
  },
  {
   "cell_type": "code",
   "execution_count": 104,
   "metadata": {
    "direction": "ltr"
   },
   "outputs": [],
   "source": [
    "sklearn_LR = LogisticRegression(C=1000, max_iter=100, penalty='l1', solver='liblinear')  # C is Inverse of regularization strength"
   ]
  },
  {
   "cell_type": "code",
   "execution_count": 105,
   "metadata": {
    "direction": "ltr"
   },
   "outputs": [
    {
     "data": {
      "text/plain": [
       "LogisticRegression(C=1000, penalty='l1', solver='liblinear')"
      ]
     },
     "execution_count": 105,
     "metadata": {},
     "output_type": "execute_result"
    }
   ],
   "source": [
    "sklearn_LR.fit(X_train,y_train.reshape(-1,))"
   ]
  },
  {
   "cell_type": "code",
   "execution_count": 106,
   "metadata": {
    "direction": "ltr"
   },
   "outputs": [],
   "source": [
    "y_p_sklearn = sklearn_LR.predict(X_test)\n",
    "y_p_LR3_1 = LR3_1.predict(X_test)"
   ]
  },
  {
   "cell_type": "code",
   "execution_count": 112,
   "metadata": {
    "direction": "ltr"
   },
   "outputs": [
    {
     "name": "stdout",
     "output_type": "stream",
     "text": [
      "              precision    recall  f1-score   support\n",
      "\n",
      "           0       0.86      1.00      0.93        32\n",
      "           1       1.00      0.91      0.95        54\n",
      "\n",
      "    accuracy                           0.94        86\n",
      "   macro avg       0.93      0.95      0.94        86\n",
      "weighted avg       0.95      0.94      0.94        86\n",
      "\n"
     ]
    }
   ],
   "source": [
    "print(classification_report(y_test , y_p_sklearn.reshape(-1,1)))        # with sklearn Logistic Regression "
   ]
  },
  {
   "cell_type": "code",
   "execution_count": 111,
   "metadata": {
    "direction": "ltr"
   },
   "outputs": [
    {
     "name": "stdout",
     "output_type": "stream",
     "text": [
      "              precision    recall  f1-score   support\n",
      "\n",
      "       False       0.93      0.88      0.90        32\n",
      "        True       0.93      0.96      0.95        54\n",
      "\n",
      "    accuracy                           0.93        86\n",
      "   macro avg       0.93      0.92      0.92        86\n",
      "weighted avg       0.93      0.93      0.93        86\n",
      "\n"
     ]
    }
   ],
   "source": [
    "print(classification_report(y_test>0.5, y_p_LR3_1))                       # with LR3_1 Logistic Regression "
   ]
  },
  {
   "cell_type": "markdown",
   "metadata": {
    "direction": "ltr"
   },
   "source": [
    "## Guassian naive bayes implementation"
   ]
  },
  {
   "cell_type": "code",
   "execution_count": 335,
   "metadata": {
    "direction": "ltr"
   },
   "outputs": [],
   "source": [
    "class GuassianNaiveBayes:\n",
    "    def fit(self, X, y):\n",
    "        \n",
    "        #_____________________________________ separating X dataset rows based on their y labels\n",
    "        zero_index = list(np.where(y == 0)[0])\n",
    "        one_index  = list(np.where(y == 1)[0])\n",
    "        \n",
    "        X_0= np.take(X, zero_index,axis=0)\n",
    "        X_1= np.take(X, one_index ,axis=0)\n",
    "        \n",
    "        #_____________________________________ Calculating the mean of each feature per class\n",
    "        self.mean = np.empty((2,X.shape[1]))\n",
    "        self.mean[0,:] = np.mean(X_0, axis=0).reshape(1,-1)\n",
    "        self.mean[1,:] = np.mean(X_1, axis=0).reshape(1,-1)\n",
    "        \n",
    "        #_____________________________________ Calculating the variance of each feature per class\n",
    "        self.variance = np.empty((2,X.shape[1]))\n",
    "        self.variance[0,:]  = np.var(X_0, axis=0).reshape(1,-1)\n",
    "        self.variance[1,:]  = np.var(X_1, axis=0).reshape(1,-1)\n",
    "\n",
    "        #_____________________________________ Calculating the prior probability of each class: P(y)\n",
    "        self.prior = np.empty((2,1))\n",
    "        self.prior[1,0] = np.count_nonzero(y)/np.size(y)\n",
    "        self.prior[0,0] = 1 - self.prior[1,0]\n",
    "        \n",
    "\n",
    "    def predict(self, X):\n",
    "        \n",
    "        pred = np.empty(X.shape[0])\n",
    "        \n",
    "        for i in range(X.shape[0]): \n",
    "            pred[i] = np.argmax(  self.get_class_probability( X[i] )  )\n",
    "            \n",
    "        return pred\n",
    "    \n",
    "\n",
    "    def get_class_probability(self, x):         # calculation here has been vectorized! (no iteration)\n",
    "        \n",
    "        P_x = self.gaussian_density(x,self.mean,self.variance)\n",
    "        \n",
    "        return   self.prior * np.sum( np.log(P_x+1e-20) ,axis=1).reshape(-1,1)   \n",
    "\n",
    "\n",
    "    def gaussian_density(self, x, mean, var):   # calculation here has been vectorized! (no iteration)\n",
    "        x = x.reshape(1,-1)\n",
    "        \n",
    "        P_x = np.empty((2,x.shape[1]))  # likelihood of x for each class P_x = P(x|y) \n",
    "        \n",
    "        P_x[0,:] = (1/(np.sqrt(2*np.pi*self.variance[0,:])) * np.exp(-0.5*((x-self.mean[0,:])/(self.variance[0,:]))**2 )).reshape(1,-1)\n",
    "        P_x[1,:] = (1/(np.sqrt(2*np.pi*self.variance[1,:])) * np.exp(-0.5*((x-self.mean[1,:])/(self.variance[1,:]))**2 )).reshape(1,-1)\n",
    "          \n",
    "        return P_x"
   ]
  },
  {
   "cell_type": "code",
   "execution_count": 342,
   "metadata": {
    "direction": "ltr"
   },
   "outputs": [],
   "source": [
    "GNB=GuassianNaiveBayes()"
   ]
  },
  {
   "cell_type": "code",
   "execution_count": 344,
   "metadata": {
    "direction": "ltr"
   },
   "outputs": [],
   "source": [
    "GNB.fit(X_train,y_train)"
   ]
  },
  {
   "cell_type": "code",
   "execution_count": 345,
   "metadata": {
    "direction": "ltr"
   },
   "outputs": [],
   "source": [
    "y_p_train = GNB.predict(X_train).reshape(-1,1)      # predicted labels of model for training data\n",
    "y_p_test = GNB.predict(X_test).reshape(-1,1)        # predicted labels of model for testing  data"
   ]
  },
  {
   "cell_type": "code",
   "execution_count": 341,
   "metadata": {
    "direction": "ltr"
   },
   "outputs": [],
   "source": [
    "from sklearn.naive_bayes import GaussianNB"
   ]
  },
  {
   "cell_type": "code",
   "execution_count": 348,
   "metadata": {
    "direction": "ltr"
   },
   "outputs": [],
   "source": [
    "sklearn_GNB = GaussianNB()"
   ]
  },
  {
   "cell_type": "code",
   "execution_count": 350,
   "metadata": {
    "direction": "ltr"
   },
   "outputs": [
    {
     "data": {
      "text/plain": [
       "GaussianNB()"
      ]
     },
     "execution_count": 350,
     "metadata": {},
     "output_type": "execute_result"
    }
   ],
   "source": [
    "sklearn_GNB.fit(X_train,y_train.reshape(-1,))"
   ]
  },
  {
   "cell_type": "code",
   "execution_count": 351,
   "metadata": {
    "direction": "ltr"
   },
   "outputs": [],
   "source": [
    "y_p_sklearn_train = sklearn_GNB.predict(X_train)  # predicted labels of model for training data\n",
    "y_p_sklearn_test = sklearn_GNB.predict(X_test)    # predicted labels of model for testing  data"
   ]
  },
  {
   "cell_type": "code",
   "execution_count": 346,
   "metadata": {
    "direction": "ltr"
   },
   "outputs": [
    {
     "name": "stdout",
     "output_type": "stream",
     "text": [
      "              precision    recall  f1-score   support\n",
      "\n",
      "           0       0.44      0.99      0.61       148\n",
      "           1       0.98      0.26      0.41       249\n",
      "\n",
      "    accuracy                           0.53       397\n",
      "   macro avg       0.71      0.63      0.51       397\n",
      "weighted avg       0.78      0.53      0.48       397\n",
      "\n"
     ]
    }
   ],
   "source": [
    "print(classification_report(y_train, y_p_train))               # GuassianNaiveBayes"
   ]
  },
  {
   "cell_type": "code",
   "execution_count": 352,
   "metadata": {
    "direction": "ltr"
   },
   "outputs": [
    {
     "name": "stdout",
     "output_type": "stream",
     "text": [
      "              precision    recall  f1-score   support\n",
      "\n",
      "           0       0.95      0.91      0.93       148\n",
      "           1       0.95      0.97      0.96       249\n",
      "\n",
      "    accuracy                           0.95       397\n",
      "   macro avg       0.95      0.94      0.94       397\n",
      "weighted avg       0.95      0.95      0.95       397\n",
      "\n"
     ]
    }
   ],
   "source": [
    "print(classification_report(y_train, y_p_sklearn_train))       # sklearn.naive_bayes.GaussianNB"
   ]
  },
  {
   "cell_type": "code",
   "execution_count": 347,
   "metadata": {
    "direction": "ltr"
   },
   "outputs": [
    {
     "name": "stdout",
     "output_type": "stream",
     "text": [
      "              precision    recall  f1-score   support\n",
      "\n",
      "           0       0.42      1.00      0.59        32\n",
      "           1       1.00      0.19      0.31        54\n",
      "\n",
      "    accuracy                           0.49        86\n",
      "   macro avg       0.71      0.59      0.45        86\n",
      "weighted avg       0.78      0.49      0.42        86\n",
      "\n"
     ]
    }
   ],
   "source": [
    "print(classification_report(y_test, y_p_test))                 # GuassianNaiveBayes"
   ]
  },
  {
   "cell_type": "code",
   "execution_count": 353,
   "metadata": {
    "direction": "ltr"
   },
   "outputs": [
    {
     "name": "stdout",
     "output_type": "stream",
     "text": [
      "              precision    recall  f1-score   support\n",
      "\n",
      "           0       0.96      0.84      0.90        32\n",
      "           1       0.91      0.98      0.95        54\n",
      "\n",
      "    accuracy                           0.93        86\n",
      "   macro avg       0.94      0.91      0.92        86\n",
      "weighted avg       0.93      0.93      0.93        86\n",
      "\n"
     ]
    }
   ],
   "source": [
    "print(classification_report(y_test, y_p_sklearn_test))         # sklearn.naive_bayes.GaussianNB"
   ]
  },
  {
   "cell_type": "code",
   "execution_count": 368,
   "metadata": {
    "direction": "ltr"
   },
   "outputs": [],
   "source": [
    "X, y = load_breast_cancer(return_X_y=True)   # loading the dataset\n",
    "#------------------------------------------\n",
    "for i in range(X.shape[1]):                  # dataset normalizing\n",
    "\n",
    "    X[:,i] = scaler.fit_transform( X[:,i].reshape(-1,1) ).reshape(-1,)\n",
    "#------------------------------------------\n",
    "X_train,X_test,y_train,y_test = train_test_split(X, y, test_size=0.3)        # splitting the dataset to train & test "
   ]
  },
  {
   "cell_type": "code",
   "execution_count": 369,
   "metadata": {
    "direction": "ltr"
   },
   "outputs": [],
   "source": [
    "from sklearn.svm import SVC"
   ]
  },
  {
   "cell_type": "markdown",
   "metadata": {
    "direction": "ltr"
   },
   "source": [
    "### kernel: linear"
   ]
  },
  {
   "cell_type": "code",
   "execution_count": 370,
   "metadata": {
    "direction": "ltr"
   },
   "outputs": [],
   "source": [
    "SVM_linear = SVC(kernel='linear')"
   ]
  },
  {
   "cell_type": "code",
   "execution_count": 371,
   "metadata": {
    "direction": "ltr"
   },
   "outputs": [
    {
     "data": {
      "text/plain": [
       "SVC(kernel='linear')"
      ]
     },
     "execution_count": 371,
     "metadata": {},
     "output_type": "execute_result"
    }
   ],
   "source": [
    "SVM_linear.fit(X_train,y_train)"
   ]
  },
  {
   "cell_type": "markdown",
   "metadata": {
    "direction": "ltr"
   },
   "source": [
    "#### train Accuracy"
   ]
  },
  {
   "cell_type": "code",
   "execution_count": 372,
   "metadata": {
    "direction": "ltr"
   },
   "outputs": [
    {
     "data": {
      "text/plain": [
       "0.9874371859296482"
      ]
     },
     "execution_count": 372,
     "metadata": {},
     "output_type": "execute_result"
    }
   ],
   "source": [
    "SVM_linear.score(X_train,y_train)     "
   ]
  },
  {
   "cell_type": "code",
   "execution_count": 415,
   "metadata": {
    "direction": "ltr"
   },
   "outputs": [
    {
     "name": "stdout",
     "output_type": "stream",
     "text": [
      "              precision    recall  f1-score   support\n",
      "\n",
      "           0       0.99      0.97      0.98       154\n",
      "           1       0.98      1.00      0.99       244\n",
      "\n",
      "    accuracy                           0.99       398\n",
      "   macro avg       0.99      0.98      0.99       398\n",
      "weighted avg       0.99      0.99      0.99       398\n",
      "\n"
     ]
    }
   ],
   "source": [
    "print(classification_report(y_train, SVM_linear.predict(X_train)))  "
   ]
  },
  {
   "cell_type": "markdown",
   "metadata": {
    "direction": "ltr"
   },
   "source": [
    "#### test Accuracy"
   ]
  },
  {
   "cell_type": "code",
   "execution_count": 373,
   "metadata": {
    "direction": "ltr"
   },
   "outputs": [
    {
     "data": {
      "text/plain": [
       "0.9707602339181286"
      ]
     },
     "execution_count": 373,
     "metadata": {},
     "output_type": "execute_result"
    }
   ],
   "source": [
    "SVM_linear.score(X_test,y_test)"
   ]
  },
  {
   "cell_type": "code",
   "execution_count": 416,
   "metadata": {
    "direction": "ltr"
   },
   "outputs": [
    {
     "name": "stdout",
     "output_type": "stream",
     "text": [
      "              precision    recall  f1-score   support\n",
      "\n",
      "           0       0.95      0.97      0.96        58\n",
      "           1       0.98      0.97      0.98       113\n",
      "\n",
      "    accuracy                           0.97       171\n",
      "   macro avg       0.97      0.97      0.97       171\n",
      "weighted avg       0.97      0.97      0.97       171\n",
      "\n"
     ]
    }
   ],
   "source": [
    "print(classification_report(y_test, SVM_linear.predict(X_test)))  "
   ]
  },
  {
   "cell_type": "markdown",
   "metadata": {
    "direction": "ltr"
   },
   "source": [
    "### kernel: RBF"
   ]
  },
  {
   "cell_type": "code",
   "execution_count": 376,
   "metadata": {
    "direction": "ltr"
   },
   "outputs": [],
   "source": [
    "SVM_RBF = SVC(kernel='rbf')"
   ]
  },
  {
   "cell_type": "code",
   "execution_count": 377,
   "metadata": {
    "direction": "ltr"
   },
   "outputs": [
    {
     "data": {
      "text/plain": [
       "SVC()"
      ]
     },
     "execution_count": 377,
     "metadata": {},
     "output_type": "execute_result"
    }
   ],
   "source": [
    "SVM_RBF.fit(X_train,y_train)"
   ]
  },
  {
   "cell_type": "markdown",
   "metadata": {
    "direction": "ltr"
   },
   "source": [
    "#### train Accuracy"
   ]
  },
  {
   "cell_type": "code",
   "execution_count": 378,
   "metadata": {
    "direction": "ltr"
   },
   "outputs": [
    {
     "data": {
      "text/plain": [
       "0.9874371859296482"
      ]
     },
     "execution_count": 378,
     "metadata": {},
     "output_type": "execute_result"
    }
   ],
   "source": [
    "SVM_RBF.score(X_train,y_train)     "
   ]
  },
  {
   "cell_type": "code",
   "execution_count": 414,
   "metadata": {
    "direction": "ltr"
   },
   "outputs": [
    {
     "name": "stdout",
     "output_type": "stream",
     "text": [
      "              precision    recall  f1-score   support\n",
      "\n",
      "           0       1.00      0.97      0.98       154\n",
      "           1       0.98      1.00      0.99       244\n",
      "\n",
      "    accuracy                           0.99       398\n",
      "   macro avg       0.99      0.98      0.99       398\n",
      "weighted avg       0.99      0.99      0.99       398\n",
      "\n"
     ]
    }
   ],
   "source": [
    "print(classification_report(y_train, SVM_RBF.predict(X_train)))  "
   ]
  },
  {
   "cell_type": "markdown",
   "metadata": {
    "direction": "ltr"
   },
   "source": [
    "#### test Accuracy"
   ]
  },
  {
   "cell_type": "code",
   "execution_count": 379,
   "metadata": {
    "direction": "ltr"
   },
   "outputs": [
    {
     "data": {
      "text/plain": [
       "0.9649122807017544"
      ]
     },
     "execution_count": 379,
     "metadata": {},
     "output_type": "execute_result"
    }
   ],
   "source": [
    "SVM_RBF.score(X_test,y_test)"
   ]
  },
  {
   "cell_type": "code",
   "execution_count": 417,
   "metadata": {
    "direction": "ltr"
   },
   "outputs": [
    {
     "name": "stdout",
     "output_type": "stream",
     "text": [
      "              precision    recall  f1-score   support\n",
      "\n",
      "           0       0.95      0.95      0.95        58\n",
      "           1       0.97      0.97      0.97       113\n",
      "\n",
      "    accuracy                           0.96       171\n",
      "   macro avg       0.96      0.96      0.96       171\n",
      "weighted avg       0.96      0.96      0.96       171\n",
      "\n"
     ]
    }
   ],
   "source": [
    "print(classification_report(y_test, SVM_RBF.predict(X_test)))  "
   ]
  },
  {
   "cell_type": "markdown",
   "metadata": {
    "direction": "ltr"
   },
   "source": [
    "### kernel: polynomial"
   ]
  },
  {
   "cell_type": "code",
   "execution_count": 382,
   "metadata": {
    "direction": "ltr"
   },
   "outputs": [],
   "source": [
    "SVM_poly_5  = SVC(kernel='poly', degree=5 )\n",
    "SVM_poly_10 = SVC(kernel='poly', degree=10)\n",
    "SVM_poly_35 = SVC(kernel='poly', degree=35)"
   ]
  },
  {
   "cell_type": "code",
   "execution_count": 383,
   "metadata": {
    "direction": "ltr"
   },
   "outputs": [
    {
     "data": {
      "text/plain": [
       "SVC(degree=5, kernel='poly')"
      ]
     },
     "execution_count": 383,
     "metadata": {},
     "output_type": "execute_result"
    }
   ],
   "source": [
    "SVM_poly_5.fit(X_train,y_train)"
   ]
  },
  {
   "cell_type": "code",
   "execution_count": 384,
   "metadata": {
    "direction": "ltr"
   },
   "outputs": [
    {
     "data": {
      "text/plain": [
       "SVC(degree=10, kernel='poly')"
      ]
     },
     "execution_count": 384,
     "metadata": {},
     "output_type": "execute_result"
    }
   ],
   "source": [
    "SVM_poly_10.fit(X_train,y_train)"
   ]
  },
  {
   "cell_type": "code",
   "execution_count": 385,
   "metadata": {
    "direction": "ltr"
   },
   "outputs": [
    {
     "data": {
      "text/plain": [
       "SVC(degree=35, kernel='poly')"
      ]
     },
     "execution_count": 385,
     "metadata": {},
     "output_type": "execute_result"
    }
   ],
   "source": [
    "SVM_poly_35.fit(X_train,y_train)"
   ]
  },
  {
   "cell_type": "markdown",
   "metadata": {
    "direction": "ltr"
   },
   "source": [
    "#### train Accuracy"
   ]
  },
  {
   "cell_type": "code",
   "execution_count": 386,
   "metadata": {
    "direction": "ltr"
   },
   "outputs": [
    {
     "data": {
      "text/plain": [
       "0.8517587939698492"
      ]
     },
     "execution_count": 386,
     "metadata": {},
     "output_type": "execute_result"
    }
   ],
   "source": [
    "SVM_poly_5.score(X_train,y_train)                                             # degree=5"
   ]
  },
  {
   "cell_type": "code",
   "execution_count": 411,
   "metadata": {
    "direction": "ltr"
   },
   "outputs": [
    {
     "name": "stdout",
     "output_type": "stream",
     "text": [
      "              precision    recall  f1-score   support\n",
      "\n",
      "           0       1.00      0.62      0.76       154\n",
      "           1       0.81      1.00      0.89       244\n",
      "\n",
      "    accuracy                           0.85       398\n",
      "   macro avg       0.90      0.81      0.83       398\n",
      "weighted avg       0.88      0.85      0.84       398\n",
      "\n"
     ]
    }
   ],
   "source": [
    "print(classification_report(y_train, SVM_poly_5.predict(X_train)))  "
   ]
  },
  {
   "cell_type": "code",
   "execution_count": 387,
   "metadata": {
    "direction": "ltr"
   },
   "outputs": [
    {
     "data": {
      "text/plain": [
       "0.8165829145728644"
      ]
     },
     "execution_count": 387,
     "metadata": {},
     "output_type": "execute_result"
    }
   ],
   "source": [
    "SVM_poly_10.score(X_train,y_train)                                           # degree=10"
   ]
  },
  {
   "cell_type": "code",
   "execution_count": 412,
   "metadata": {
    "direction": "ltr"
   },
   "outputs": [
    {
     "name": "stdout",
     "output_type": "stream",
     "text": [
      "              precision    recall  f1-score   support\n",
      "\n",
      "           0       1.00      0.53      0.69       154\n",
      "           1       0.77      1.00      0.87       244\n",
      "\n",
      "    accuracy                           0.82       398\n",
      "   macro avg       0.88      0.76      0.78       398\n",
      "weighted avg       0.86      0.82      0.80       398\n",
      "\n"
     ]
    }
   ],
   "source": [
    "print(classification_report(y_train, SVM_poly_10.predict(X_train)))  "
   ]
  },
  {
   "cell_type": "code",
   "execution_count": 388,
   "metadata": {
    "direction": "ltr"
   },
   "outputs": [
    {
     "data": {
      "text/plain": [
       "0.8065326633165829"
      ]
     },
     "execution_count": 388,
     "metadata": {},
     "output_type": "execute_result"
    }
   ],
   "source": [
    "SVM_poly_35.score(X_train,y_train)                                         # degree=35"
   ]
  },
  {
   "cell_type": "code",
   "execution_count": 413,
   "metadata": {
    "direction": "ltr"
   },
   "outputs": [
    {
     "name": "stdout",
     "output_type": "stream",
     "text": [
      "              precision    recall  f1-score   support\n",
      "\n",
      "           0       1.00      0.50      0.67       154\n",
      "           1       0.76      1.00      0.86       244\n",
      "\n",
      "    accuracy                           0.81       398\n",
      "   macro avg       0.88      0.75      0.77       398\n",
      "weighted avg       0.85      0.81      0.79       398\n",
      "\n"
     ]
    }
   ],
   "source": [
    "print(classification_report(y_train, SVM_poly_35.predict(X_train)))  "
   ]
  },
  {
   "cell_type": "markdown",
   "metadata": {
    "direction": "ltr"
   },
   "source": [
    "#### test Accuracy"
   ]
  },
  {
   "cell_type": "code",
   "execution_count": 389,
   "metadata": {
    "direction": "ltr"
   },
   "outputs": [
    {
     "data": {
      "text/plain": [
       "0.8187134502923976"
      ]
     },
     "execution_count": 389,
     "metadata": {},
     "output_type": "execute_result"
    }
   ],
   "source": [
    "SVM_poly_5.score(X_test,y_test)                                                 # degree=5"
   ]
  },
  {
   "cell_type": "code",
   "execution_count": 420,
   "metadata": {
    "direction": "ltr"
   },
   "outputs": [
    {
     "name": "stdout",
     "output_type": "stream",
     "text": [
      "              precision    recall  f1-score   support\n",
      "\n",
      "           0       1.00      0.47      0.64        58\n",
      "           1       0.78      1.00      0.88       113\n",
      "\n",
      "    accuracy                           0.82       171\n",
      "   macro avg       0.89      0.73      0.76       171\n",
      "weighted avg       0.86      0.82      0.80       171\n",
      "\n"
     ]
    }
   ],
   "source": [
    "print(classification_report(y_test, SVM_poly_5.predict(X_test)))  "
   ]
  },
  {
   "cell_type": "code",
   "execution_count": 390,
   "metadata": {
    "direction": "ltr"
   },
   "outputs": [
    {
     "data": {
      "text/plain": [
       "0.7426900584795322"
      ]
     },
     "execution_count": 390,
     "metadata": {},
     "output_type": "execute_result"
    }
   ],
   "source": [
    "SVM_poly_10.score(X_test,y_test)                                                 # degree=10"
   ]
  },
  {
   "cell_type": "code",
   "execution_count": 419,
   "metadata": {
    "direction": "ltr"
   },
   "outputs": [
    {
     "name": "stdout",
     "output_type": "stream",
     "text": [
      "              precision    recall  f1-score   support\n",
      "\n",
      "           0       0.85      0.29      0.44        58\n",
      "           1       0.73      0.97      0.83       113\n",
      "\n",
      "    accuracy                           0.74       171\n",
      "   macro avg       0.79      0.63      0.63       171\n",
      "weighted avg       0.77      0.74      0.70       171\n",
      "\n"
     ]
    }
   ],
   "source": [
    "print(classification_report(y_test, SVM_poly_10.predict(X_test)))  "
   ]
  },
  {
   "cell_type": "code",
   "execution_count": 391,
   "metadata": {
    "direction": "ltr"
   },
   "outputs": [
    {
     "data": {
      "text/plain": [
       "0.7368421052631579"
      ]
     },
     "execution_count": 391,
     "metadata": {},
     "output_type": "execute_result"
    }
   ],
   "source": [
    "SVM_poly_35.score(X_test,y_test)                                                # degree=35"
   ]
  },
  {
   "cell_type": "code",
   "execution_count": 418,
   "metadata": {
    "direction": "ltr"
   },
   "outputs": [
    {
     "name": "stdout",
     "output_type": "stream",
     "text": [
      "              precision    recall  f1-score   support\n",
      "\n",
      "           0       0.93      0.24      0.38        58\n",
      "           1       0.72      0.99      0.83       113\n",
      "\n",
      "    accuracy                           0.74       171\n",
      "   macro avg       0.83      0.62      0.61       171\n",
      "weighted avg       0.79      0.74      0.68       171\n",
      "\n"
     ]
    }
   ],
   "source": [
    "print(classification_report(y_test, SVM_poly_35.predict(X_test)))  "
   ]
  },
  {
   "cell_type": "code",
   "execution_count": 392,
   "metadata": {
    "direction": "ltr"
   },
   "outputs": [],
   "source": [
    "SVM_RBF_1 = SVC(kernel='rbf', C=0.1)\n",
    "SVM_RBF_2 = SVC(kernel='rbf', C=1  )\n",
    "SVM_RBF_3 = SVC(kernel='rbf', C=10 )"
   ]
  },
  {
   "cell_type": "code",
   "execution_count": 393,
   "metadata": {
    "direction": "ltr"
   },
   "outputs": [
    {
     "data": {
      "text/plain": [
       "SVC(C=0.1)"
      ]
     },
     "execution_count": 393,
     "metadata": {},
     "output_type": "execute_result"
    }
   ],
   "source": [
    "SVM_RBF_1.fit(X_train,y_train)"
   ]
  },
  {
   "cell_type": "code",
   "execution_count": 394,
   "metadata": {
    "direction": "ltr"
   },
   "outputs": [
    {
     "data": {
      "text/plain": [
       "SVC(C=1)"
      ]
     },
     "execution_count": 394,
     "metadata": {},
     "output_type": "execute_result"
    }
   ],
   "source": [
    "SVM_RBF_2.fit(X_train,y_train)"
   ]
  },
  {
   "cell_type": "code",
   "execution_count": 395,
   "metadata": {
    "direction": "ltr"
   },
   "outputs": [
    {
     "data": {
      "text/plain": [
       "SVC(C=10)"
      ]
     },
     "execution_count": 395,
     "metadata": {},
     "output_type": "execute_result"
    }
   ],
   "source": [
    "SVM_RBF_3.fit(X_train,y_train)"
   ]
  },
  {
   "cell_type": "markdown",
   "metadata": {
    "direction": "ltr"
   },
   "source": [
    "#### train Accuracy"
   ]
  },
  {
   "cell_type": "code",
   "execution_count": 396,
   "metadata": {
    "direction": "ltr"
   },
   "outputs": [
    {
     "data": {
      "text/plain": [
       "0.949748743718593"
      ]
     },
     "execution_count": 396,
     "metadata": {},
     "output_type": "execute_result"
    }
   ],
   "source": [
    "SVM_RBF_1.score(X_train,y_train)                                    # C=0.1 "
   ]
  },
  {
   "cell_type": "code",
   "execution_count": 408,
   "metadata": {
    "direction": "ltr"
   },
   "outputs": [
    {
     "name": "stdout",
     "output_type": "stream",
     "text": [
      "              precision    recall  f1-score   support\n",
      "\n",
      "           0       0.97      0.90      0.93       154\n",
      "           1       0.94      0.98      0.96       244\n",
      "\n",
      "    accuracy                           0.95       398\n",
      "   macro avg       0.95      0.94      0.95       398\n",
      "weighted avg       0.95      0.95      0.95       398\n",
      "\n"
     ]
    }
   ],
   "source": [
    "print(classification_report(y_train, SVM_RBF_1.predict(X_train)))  "
   ]
  },
  {
   "cell_type": "code",
   "execution_count": 397,
   "metadata": {
    "direction": "ltr"
   },
   "outputs": [
    {
     "data": {
      "text/plain": [
       "0.9874371859296482"
      ]
     },
     "execution_count": 397,
     "metadata": {},
     "output_type": "execute_result"
    }
   ],
   "source": [
    "SVM_RBF_2.score(X_train,y_train)                                   # C=1"
   ]
  },
  {
   "cell_type": "code",
   "execution_count": 409,
   "metadata": {
    "direction": "ltr"
   },
   "outputs": [
    {
     "name": "stdout",
     "output_type": "stream",
     "text": [
      "              precision    recall  f1-score   support\n",
      "\n",
      "           0       1.00      0.97      0.98       154\n",
      "           1       0.98      1.00      0.99       244\n",
      "\n",
      "    accuracy                           0.99       398\n",
      "   macro avg       0.99      0.98      0.99       398\n",
      "weighted avg       0.99      0.99      0.99       398\n",
      "\n"
     ]
    }
   ],
   "source": [
    "print(classification_report(y_train, SVM_RBF_2.predict(X_train)))  "
   ]
  },
  {
   "cell_type": "code",
   "execution_count": 398,
   "metadata": {
    "direction": "ltr"
   },
   "outputs": [
    {
     "data": {
      "text/plain": [
       "0.9899497487437185"
      ]
     },
     "execution_count": 398,
     "metadata": {},
     "output_type": "execute_result"
    }
   ],
   "source": [
    "SVM_RBF_3.score(X_train,y_train)                                   # C=10"
   ]
  },
  {
   "cell_type": "code",
   "execution_count": 410,
   "metadata": {
    "direction": "ltr"
   },
   "outputs": [
    {
     "name": "stdout",
     "output_type": "stream",
     "text": [
      "              precision    recall  f1-score   support\n",
      "\n",
      "           0       1.00      0.97      0.99       154\n",
      "           1       0.98      1.00      0.99       244\n",
      "\n",
      "    accuracy                           0.99       398\n",
      "   macro avg       0.99      0.99      0.99       398\n",
      "weighted avg       0.99      0.99      0.99       398\n",
      "\n"
     ]
    }
   ],
   "source": [
    "print(classification_report(y_train, SVM_RBF_3.predict(X_train)))  "
   ]
  },
  {
   "cell_type": "markdown",
   "metadata": {
    "direction": "ltr"
   },
   "source": [
    "#### test Accuracy"
   ]
  },
  {
   "cell_type": "code",
   "execution_count": 399,
   "metadata": {
    "direction": "ltr"
   },
   "outputs": [
    {
     "data": {
      "text/plain": [
       "0.935672514619883"
      ]
     },
     "execution_count": 399,
     "metadata": {},
     "output_type": "execute_result"
    }
   ],
   "source": [
    "SVM_RBF_1.score(X_test,y_test)                                    # C=0.1 "
   ]
  },
  {
   "cell_type": "code",
   "execution_count": 401,
   "metadata": {
    "direction": "ltr"
   },
   "outputs": [
    {
     "data": {
      "text/plain": [
       "0.9649122807017544"
      ]
     },
     "execution_count": 401,
     "metadata": {},
     "output_type": "execute_result"
    }
   ],
   "source": [
    "SVM_RBF_2.score(X_test,y_test)                                    # C=1"
   ]
  },
  {
   "cell_type": "code",
   "execution_count": 402,
   "metadata": {
    "direction": "ltr"
   },
   "outputs": [
    {
     "data": {
      "text/plain": [
       "0.9707602339181286"
      ]
     },
     "execution_count": 402,
     "metadata": {},
     "output_type": "execute_result"
    }
   ],
   "source": [
    "SVM_RBF_3.score(X_test,y_test)                                    # C=10"
   ]
  },
  {
   "cell_type": "code",
   "execution_count": 421,
   "metadata": {
    "direction": "ltr"
   },
   "outputs": [],
   "source": [
    "from sklearn.linear_model import SGDClassifier"
   ]
  },
  {
   "cell_type": "code",
   "execution_count": 422,
   "metadata": {
    "direction": "ltr"
   },
   "outputs": [],
   "source": [
    "SGD = SGDClassifier(loss=\"hinge\", max_iter=100)"
   ]
  },
  {
   "cell_type": "code",
   "execution_count": 423,
   "metadata": {
    "direction": "ltr"
   },
   "outputs": [
    {
     "data": {
      "text/plain": [
       "SGDClassifier(max_iter=100)"
      ]
     },
     "execution_count": 423,
     "metadata": {},
     "output_type": "execute_result"
    }
   ],
   "source": [
    "SGD.fit(X_train,y_train)"
   ]
  },
  {
   "cell_type": "markdown",
   "metadata": {
    "direction": "ltr"
   },
   "source": [
    "#### train Accuracy"
   ]
  },
  {
   "cell_type": "code",
   "execution_count": 425,
   "metadata": {
    "direction": "ltr"
   },
   "outputs": [
    {
     "data": {
      "text/plain": [
       "0.9824120603015075"
      ]
     },
     "execution_count": 425,
     "metadata": {},
     "output_type": "execute_result"
    }
   ],
   "source": [
    "SGD.score(X_train,y_train)                                   # SGD    accuracy on train data"
   ]
  },
  {
   "cell_type": "code",
   "execution_count": 427,
   "metadata": {
    "direction": "ltr"
   },
   "outputs": [
    {
     "name": "stdout",
     "output_type": "stream",
     "text": [
      "              precision    recall  f1-score   support\n",
      "\n",
      "           0       0.99      0.96      0.98       154\n",
      "           1       0.98      1.00      0.99       244\n",
      "\n",
      "    accuracy                           0.98       398\n",
      "   macro avg       0.98      0.98      0.98       398\n",
      "weighted avg       0.98      0.98      0.98       398\n",
      "\n"
     ]
    }
   ],
   "source": [
    "print(classification_report(y_train, SGD.predict(X_train)))  "
   ]
  },
  {
   "cell_type": "markdown",
   "metadata": {
    "direction": "ltr"
   },
   "source": [
    "#### tets Accuracy"
   ]
  },
  {
   "cell_type": "code",
   "execution_count": 424,
   "metadata": {
    "direction": "ltr"
   },
   "outputs": [
    {
     "data": {
      "text/plain": [
       "0.9649122807017544"
      ]
     },
     "execution_count": 424,
     "metadata": {},
     "output_type": "execute_result"
    }
   ],
   "source": [
    "SGD.score(X_test,y_test)                                     # SGD     accuracy on test data"
   ]
  },
  {
   "cell_type": "code",
   "execution_count": 426,
   "metadata": {
    "direction": "ltr"
   },
   "outputs": [
    {
     "name": "stdout",
     "output_type": "stream",
     "text": [
      "              precision    recall  f1-score   support\n",
      "\n",
      "           0       0.96      0.93      0.95        58\n",
      "           1       0.97      0.98      0.97       113\n",
      "\n",
      "    accuracy                           0.96       171\n",
      "   macro avg       0.96      0.96      0.96       171\n",
      "weighted avg       0.96      0.96      0.96       171\n",
      "\n"
     ]
    }
   ],
   "source": [
    "print(classification_report(y_test, SGD.predict(X_test)))  "
   ]
  },
  {
   "cell_type": "markdown",
   "metadata": {
    "direction": "ltr"
   },
   "source": [
    "## Decision Tree"
   ]
  },
  {
   "cell_type": "code",
   "execution_count": 4,
   "metadata": {
    "direction": "ltr"
   },
   "outputs": [],
   "source": [
    "## Preprocessing steps\n",
    "train = pd.read_csv(\"titanic.csv\")\n",
    "\n",
    "train.pop('Cabin')\n",
    "train.pop('Name')\n",
    "train.pop('Ticket')\n",
    "train['Age'] = train['Age'].fillna(train['Age'].mean())\n",
    "train['Embarked'] = train['Embarked'].fillna(train['Embarked'].mode()[0])\n",
    "train['Pclass'] = train['Pclass'].apply(str)\n",
    "\n",
    "# Onehot encoding categorical features\n",
    "for col in train.dtypes[train.dtypes == 'object'].index:\n",
    "    for_dummy = train.pop(col)\n",
    "    train = pd.concat([train, pd.get_dummies(for_dummy, prefix=col)], axis=1)\n",
    "\n",
    "labels = train.pop('Survived')\n",
    "x_train, x_test, y_train, y_test = train_test_split(train, labels, test_size=0.25)"
   ]
  },
  {
   "cell_type": "code",
   "execution_count": 5,
   "metadata": {
    "direction": "ltr"
   },
   "outputs": [],
   "source": [
    "from sklearn.tree import DecisionTreeClassifier"
   ]
  },
  {
   "cell_type": "code",
   "execution_count": 9,
   "metadata": {
    "direction": "ltr"
   },
   "outputs": [],
   "source": [
    "DT_list = []                                   # list for classifiers with differet max_depth\n",
    "\n",
    "for i in range(21):\n",
    "    DT_list.append( DecisionTreeClassifier(max_depth=i+5, random_state=0) )"
   ]
  },
  {
   "cell_type": "code",
   "execution_count": 15,
   "metadata": {
    "direction": "ltr"
   },
   "outputs": [],
   "source": [
    "for i in range(len(DT_list)):                  # fitting all the models in the list on training dataset\n",
    "    DT_list[i].fit(x_train,y_train)"
   ]
  },
  {
   "cell_type": "markdown",
   "metadata": {
    "direction": "ltr"
   },
   "source": [
    "### test Accuracy"
   ]
  },
  {
   "cell_type": "code",
   "execution_count": 19,
   "metadata": {
    "direction": "ltr"
   },
   "outputs": [
    {
     "name": "stdout",
     "output_type": "stream",
     "text": [
      "Decision Tree with max_depth=5 Accuracy on test data: 0.7488789237668162\n",
      "Decision Tree with max_depth=6 Accuracy on test data: 0.7757847533632287\n",
      "Decision Tree with max_depth=7 Accuracy on test data: 0.7533632286995515\n",
      "Decision Tree with max_depth=8 Accuracy on test data: 0.7488789237668162\n",
      "Decision Tree with max_depth=9 Accuracy on test data: 0.7399103139013453\n",
      "Decision Tree with max_depth=10 Accuracy on test data: 0.7488789237668162\n",
      "Decision Tree with max_depth=11 Accuracy on test data: 0.7174887892376681\n",
      "Decision Tree with max_depth=12 Accuracy on test data: 0.726457399103139\n",
      "Decision Tree with max_depth=13 Accuracy on test data: 0.7130044843049327\n",
      "Decision Tree with max_depth=14 Accuracy on test data: 0.7399103139013453\n",
      "Decision Tree with max_depth=15 Accuracy on test data: 0.7085201793721974\n",
      "Decision Tree with max_depth=16 Accuracy on test data: 0.7130044843049327\n",
      "Decision Tree with max_depth=17 Accuracy on test data: 0.7219730941704036\n",
      "Decision Tree with max_depth=18 Accuracy on test data: 0.7219730941704036\n",
      "Decision Tree with max_depth=19 Accuracy on test data: 0.7219730941704036\n",
      "Decision Tree with max_depth=20 Accuracy on test data: 0.7219730941704036\n",
      "Decision Tree with max_depth=21 Accuracy on test data: 0.7219730941704036\n",
      "Decision Tree with max_depth=22 Accuracy on test data: 0.7219730941704036\n",
      "Decision Tree with max_depth=23 Accuracy on test data: 0.7219730941704036\n",
      "Decision Tree with max_depth=24 Accuracy on test data: 0.7219730941704036\n",
      "Decision Tree with max_depth=25 Accuracy on test data: 0.7219730941704036\n"
     ]
    }
   ],
   "source": [
    "for i in range(len(DT_list)):                  # calculating and printing the accuracy of each model on test dataset\n",
    "    score = DT_list[i].score(x_test,y_test)\n",
    "    print(f'Decision Tree with max_depth={i+5} Accuracy on test data: {score}')"
   ]
  },
  {
   "cell_type": "code",
   "execution_count": 26,
   "metadata": {
    "direction": "ltr"
   },
   "outputs": [],
   "source": [
    "DT_list = []                                   # list for classifiers with differet min_samples_split\n",
    "\n",
    "for i in range(9):\n",
    "    DT_list.append( DecisionTreeClassifier(max_depth=15, min_samples_split=i+2 ,random_state=0) )"
   ]
  },
  {
   "cell_type": "code",
   "execution_count": 27,
   "metadata": {
    "direction": "ltr"
   },
   "outputs": [],
   "source": [
    "for i in range(len(DT_list)):                  # fitting all the models in the list on training dataset\n",
    "    DT_list[i].fit(x_train,y_train)"
   ]
  },
  {
   "cell_type": "markdown",
   "metadata": {
    "direction": "ltr"
   },
   "source": [
    "### train Accuracy"
   ]
  },
  {
   "cell_type": "code",
   "execution_count": 29,
   "metadata": {
    "direction": "ltr"
   },
   "outputs": [
    {
     "name": "stdout",
     "output_type": "stream",
     "text": [
      "Decision Tree with max_depth=15 and min_samples_split=2  Accuracy on tarin data: 0.9985029940119761\n",
      "Decision Tree with max_depth=15 and min_samples_split=3  Accuracy on tarin data: 0.9880239520958084\n",
      "Decision Tree with max_depth=15 and min_samples_split=4  Accuracy on tarin data: 0.9715568862275449\n",
      "Decision Tree with max_depth=15 and min_samples_split=5  Accuracy on tarin data: 0.9610778443113772\n",
      "Decision Tree with max_depth=15 and min_samples_split=6  Accuracy on tarin data: 0.9535928143712575\n",
      "Decision Tree with max_depth=15 and min_samples_split=7  Accuracy on tarin data: 0.9461077844311377\n",
      "Decision Tree with max_depth=15 and min_samples_split=8  Accuracy on tarin data: 0.9431137724550899\n",
      "Decision Tree with max_depth=15 and min_samples_split=9  Accuracy on tarin data: 0.9281437125748503\n",
      "Decision Tree with max_depth=15 and min_samples_split=10  Accuracy on tarin data: 0.9236526946107785\n"
     ]
    }
   ],
   "source": [
    "for i in range(len(DT_list)):                  # calculating and printing the accuracy of each model on train dataset\n",
    "    score = DT_list[i].score(x_train,y_train)\n",
    "    print(f'Decision Tree with max_depth=15 and min_samples_split={i+2}  Accuracy on tarin data: {score}')"
   ]
  },
  {
   "cell_type": "markdown",
   "metadata": {
    "direction": "ltr"
   },
   "source": [
    "### test Accuracy"
   ]
  },
  {
   "cell_type": "code",
   "execution_count": 28,
   "metadata": {
    "direction": "ltr"
   },
   "outputs": [
    {
     "name": "stdout",
     "output_type": "stream",
     "text": [
      "Decision Tree with max_depth=15 and min_samples_split=2  Accuracy on test data: 0.7085201793721974\n",
      "Decision Tree with max_depth=15 and min_samples_split=3  Accuracy on test data: 0.7130044843049327\n",
      "Decision Tree with max_depth=15 and min_samples_split=4  Accuracy on test data: 0.7085201793721974\n",
      "Decision Tree with max_depth=15 and min_samples_split=5  Accuracy on test data: 0.726457399103139\n",
      "Decision Tree with max_depth=15 and min_samples_split=6  Accuracy on test data: 0.726457399103139\n",
      "Decision Tree with max_depth=15 and min_samples_split=7  Accuracy on test data: 0.7488789237668162\n",
      "Decision Tree with max_depth=15 and min_samples_split=8  Accuracy on test data: 0.7399103139013453\n",
      "Decision Tree with max_depth=15 and min_samples_split=9  Accuracy on test data: 0.7488789237668162\n",
      "Decision Tree with max_depth=15 and min_samples_split=10  Accuracy on test data: 0.7443946188340808\n"
     ]
    }
   ],
   "source": [
    "for i in range(len(DT_list)):                  # calculating and printing the accuracy of each model on test dataset\n",
    "    score = DT_list[i].score(x_test,y_test)\n",
    "    print(f'Decision Tree with max_depth=15 and min_samples_split={i+2}  Accuracy on test data: {score}')"
   ]
  },
  {
   "cell_type": "code",
   "execution_count": 31,
   "metadata": {
    "direction": "ltr"
   },
   "outputs": [],
   "source": [
    "DT_gini    = DecisionTreeClassifier(max_depth=15, min_samples_split=5, criterion='gini'    ,random_state=0)\n",
    "DT_entropy = DecisionTreeClassifier(max_depth=15, min_samples_split=5, criterion='entropy' ,random_state=0)"
   ]
  },
  {
   "cell_type": "code",
   "execution_count": 32,
   "metadata": {
    "direction": "ltr"
   },
   "outputs": [
    {
     "data": {
      "text/plain": [
       "DecisionTreeClassifier(max_depth=15, min_samples_split=5, random_state=0)"
      ]
     },
     "execution_count": 32,
     "metadata": {},
     "output_type": "execute_result"
    }
   ],
   "source": [
    "DT_gini.fit(x_train,y_train)"
   ]
  },
  {
   "cell_type": "code",
   "execution_count": 33,
   "metadata": {
    "direction": "ltr"
   },
   "outputs": [
    {
     "data": {
      "text/plain": [
       "DecisionTreeClassifier(criterion='entropy', max_depth=15, min_samples_split=5,\n",
       "                       random_state=0)"
      ]
     },
     "execution_count": 33,
     "metadata": {},
     "output_type": "execute_result"
    }
   ],
   "source": [
    "DT_entropy.fit(x_train,y_train)"
   ]
  },
  {
   "cell_type": "markdown",
   "metadata": {
    "direction": "ltr"
   },
   "source": [
    "### train Accuracy"
   ]
  },
  {
   "cell_type": "code",
   "execution_count": 35,
   "metadata": {
    "direction": "ltr"
   },
   "outputs": [
    {
     "data": {
      "text/plain": [
       "0.9610778443113772"
      ]
     },
     "execution_count": 35,
     "metadata": {},
     "output_type": "execute_result"
    }
   ],
   "source": [
    "DT_gini.score(x_train,y_train)                    # criterion='gini'"
   ]
  },
  {
   "cell_type": "code",
   "execution_count": 36,
   "metadata": {
    "direction": "ltr"
   },
   "outputs": [
    {
     "data": {
      "text/plain": [
       "0.9640718562874252"
      ]
     },
     "execution_count": 36,
     "metadata": {},
     "output_type": "execute_result"
    }
   ],
   "source": [
    "DT_entropy.score(x_train,y_train)                 # criterion='entropy'"
   ]
  },
  {
   "cell_type": "markdown",
   "metadata": {
    "direction": "ltr"
   },
   "source": [
    "### test Accuracy"
   ]
  },
  {
   "cell_type": "code",
   "execution_count": 34,
   "metadata": {
    "direction": "ltr"
   },
   "outputs": [
    {
     "data": {
      "text/plain": [
       "0.726457399103139"
      ]
     },
     "execution_count": 34,
     "metadata": {},
     "output_type": "execute_result"
    }
   ],
   "source": [
    "DT_gini.score(x_test,y_test)                     # criterion='gini'"
   ]
  },
  {
   "cell_type": "code",
   "execution_count": 37,
   "metadata": {
    "direction": "ltr"
   },
   "outputs": [
    {
     "data": {
      "text/plain": [
       "0.7309417040358744"
      ]
     },
     "execution_count": 37,
     "metadata": {},
     "output_type": "execute_result"
    }
   ],
   "source": [
    "DT_entropy.score(x_test,y_test)                  # criterion='entropy'"
   ]
  },
  {
   "cell_type": "code",
   "execution_count": 51,
   "metadata": {
    "direction": "ltr"
   },
   "outputs": [],
   "source": [
    "from sklearn.tree import plot_tree\n",
    "import matplotlib.pyplot as plt"
   ]
  },
  {
   "cell_type": "code",
   "execution_count": 48,
   "metadata": {
    "direction": "ltr"
   },
   "outputs": [],
   "source": [
    "DT_entropy = DecisionTreeClassifier( max_depth=15, min_samples_split=5, criterion='entropy' ,random_state=0 ) "
   ]
  },
  {
   "cell_type": "code",
   "execution_count": 49,
   "metadata": {
    "direction": "ltr"
   },
   "outputs": [],
   "source": [
    "DT_entropy = DT_entropy.fit(x_train,y_train)"
   ]
  },
  {
   "cell_type": "code",
   "execution_count": 71,
   "metadata": {
    "direction": "ltr"
   },
   "outputs": [],
   "source": [
    "fn = x_train.columns\n",
    "cn=['not_survived', 'survived']"
   ]
  },
  {
   "cell_type": "code",
   "execution_count": 75,
   "metadata": {
    "direction": "ltr"
   },
   "outputs": [
    {
     "data": {
      "image/png": "[encoded data removed]",
      "text/plain": [
       "<Figure size 1800x1800 with 1 Axes>"
      ]
     },
     "metadata": {
      "needs_background": "light"
     },
     "output_type": "display_data"
    }
   ],
   "source": [
    "fig, axes = plt.subplots(nrows = 1,ncols = 1,figsize = (6,6), dpi=300)\n",
    "\n",
    "tree.plot_tree(DT_entropy,\n",
    "               feature_names = fn, \n",
    "               class_names=cn,\n",
    "               filled = True);fig.savefig('decision_tree.png')"
   ]
  }
 ],
 "metadata": {
  "direction": "rtl",
  "kernelspec": {
   "display_name": "Python 3 (ipykernel)",
   "language": "python",
   "name": "python3"
  },
  "language_info": {
   "codemirror_mode": {
    "name": "ipython",
    "version": 3
   },
   "file_extension": ".py",
   "mimetype": "text/x-python",
   "name": "python",
   "nbconvert_exporter": "python",
   "pygments_lexer": "ipython3",
   "version": "3.9.7"
  },
  "vscode": {
   "interpreter": {
    "hash": "e774977668b7c0ae8309835a5187aa7fbf7669e7d0bb59755bc63e573643edcd"
   }
  }
 },
 "nbformat": 4,
 "nbformat_minor": 2
}
